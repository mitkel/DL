{
 "cells": [
  {
   "cell_type": "markdown",
   "metadata": {},
   "source": [
    "# Logistic regression for iris"
   ]
  },
  {
   "cell_type": "code",
   "execution_count": 2,
   "metadata": {},
   "outputs": [],
   "source": [
    "import numpy as np\n",
    "from sklearn import datasets"
   ]
  },
  {
   "cell_type": "code",
   "execution_count": 3,
   "metadata": {},
   "outputs": [
    {
     "name": "stdout",
     "output_type": "stream",
     "text": [
      ".. _iris_dataset:\n",
      "\n",
      "Iris plants dataset\n",
      "--------------------\n",
      "\n",
      "**Data Set Characteristics:**\n",
      "\n",
      "    :Number of Instances: 150 (50 in each of three classes)\n",
      "    :Number of Attributes: 4 numeric, predictive attributes and the class\n",
      "    :Attribute Information:\n",
      "        - sepal length in cm\n",
      "        - sepal width in cm\n",
      "        - petal length in cm\n",
      "        - petal width in cm\n",
      "        - class:\n",
      "                - Iris-Setosa\n",
      "                - Iris-Versicolour\n",
      "                - Iris-Virginica\n",
      "                \n",
      "    :Summary Statistics:\n",
      "\n",
      "    ============== ==== ==== ======= ===== ====================\n",
      "                    Min  Max   Mean    SD   Class Correlation\n",
      "    ============== ==== ==== ======= ===== ====================\n",
      "    sepal length:   4.3  7.9   5.84   0.83    0.7826\n",
      "    sepal width:    2.0  4.4   3.05   0.43   -0.4194\n",
      "    petal length:   1.0  6.9   3.76   1.76    0.9490  (high!)\n",
      "    petal width:    0.1  2.5   1.20   0.76    0.9565  (high!)\n",
      "    ============== ==== ==== ======= ===== ====================\n",
      "\n",
      "    :Missing Attribute Values: None\n",
      "    :Class Distribution: 33.3% for each of 3 classes.\n",
      "    :Creator: R.A. Fisher\n",
      "    :Donor: Michael Marshall (MARSHALL%PLU@io.arc.nasa.gov)\n",
      "    :Date: July, 1988\n",
      "\n",
      "The famous Iris database, first used by Sir R.A. Fisher. The dataset is taken\n",
      "from Fisher's paper. Note that it's the same as in R, but not as in the UCI\n",
      "Machine Learning Repository, which has two wrong data points.\n",
      "\n",
      "This is perhaps the best known database to be found in the\n",
      "pattern recognition literature.  Fisher's paper is a classic in the field and\n",
      "is referenced frequently to this day.  (See Duda & Hart, for example.)  The\n",
      "data set contains 3 classes of 50 instances each, where each class refers to a\n",
      "type of iris plant.  One class is linearly separable from the other 2; the\n",
      "latter are NOT linearly separable from each other.\n",
      "\n",
      ".. topic:: References\n",
      "\n",
      "   - Fisher, R.A. \"The use of multiple measurements in taxonomic problems\"\n",
      "     Annual Eugenics, 7, Part II, 179-188 (1936); also in \"Contributions to\n",
      "     Mathematical Statistics\" (John Wiley, NY, 1950).\n",
      "   - Duda, R.O., & Hart, P.E. (1973) Pattern Classification and Scene Analysis.\n",
      "     (Q327.D83) John Wiley & Sons.  ISBN 0-471-22361-1.  See page 218.\n",
      "   - Dasarathy, B.V. (1980) \"Nosing Around the Neighborhood: A New System\n",
      "     Structure and Classification Rule for Recognition in Partially Exposed\n",
      "     Environments\".  IEEE Transactions on Pattern Analysis and Machine\n",
      "     Intelligence, Vol. PAMI-2, No. 1, 67-71.\n",
      "   - Gates, G.W. (1972) \"The Reduced Nearest Neighbor Rule\".  IEEE Transactions\n",
      "     on Information Theory, May 1972, 431-433.\n",
      "   - See also: 1988 MLC Proceedings, 54-64.  Cheeseman et al\"s AUTOCLASS II\n",
      "     conceptual clustering system finds 3 classes in the data.\n",
      "   - Many, many more ...\n"
     ]
    }
   ],
   "source": [
    "source = datasets.load_iris()\n",
    "print(source.DESCR)"
   ]
  },
  {
   "cell_type": "markdown",
   "metadata": {},
   "source": [
    "### Model\n",
    "We have $k$ classes and given observation $X$\n",
    "$$ \\mathbb{P}_p(Y=k \\,\\vert\\, X) \\propto e^{p_k^TX}$$ \n",
    "### Problem\n",
    "We want to maximize log-likelohood:\n",
    "$$p^\\ast = \\operatorname*{argmin}_p -\\log P_p(X).$$"
   ]
  },
  {
   "cell_type": "code",
   "execution_count": 23,
   "metadata": {},
   "outputs": [],
   "source": [
    "data = source.data\n",
    "target = source.target\n",
    "\n",
    "features = 4\n",
    "classes = 3\n",
    "\n",
    "design1 = data\n",
    "design1 = np.c_[np.ones(len(target)), design1]\n",
    "onehot = (np.arange(classes) == target[:, None])\n",
    "\n",
    "learning_rate = 10**(-3)\n",
    "no_steps = 5*10**4\n",
    "params = np.zeros((features + 1,classes))\n",
    "stopping_cond = 10**(-3)\n",
    "loss_vec =[]\n",
    "\n",
    "def activity( design1, params ):\n",
    "    activation = design1 @ params\n",
    "    return np.exp(activation) / np.sum(np.exp(activation), 1, keepdims = True)\n",
    "\n",
    "def loss_fun( design1, params, onehot ):\n",
    "    log = (-np.log(activity( design1, params )))\n",
    "    return np.sum( log * onehot )\n",
    "\n",
    "for epoch in range(no_steps):\n",
    "    loss = loss_fun( design1, params, onehot )\n",
    "    loss_vec = np.append(loss_vec, loss)\n",
    "    grad = - design1.T @ ( onehot - activity( design1, params ) ) \n",
    "    params -= learning_rate * grad\n",
    "    if(epoch > 2 and abs(loss_vec[-2]-loss_vec[-1]) < stopping_cond):\n",
    "        break"
   ]
  },
  {
   "cell_type": "code",
   "execution_count": 20,
   "metadata": {},
   "outputs": [
    {
     "name": "stdout",
     "output_type": "stream",
     "text": [
      "2888 11.175782266081434\n"
     ]
    },
    {
     "data": {
      "image/png": "[encoded data removed]",
      "text/plain": [
       "<Figure size 432x288 with 1 Axes>"
      ]
     },
     "metadata": {
      "needs_background": "light"
     },
     "output_type": "display_data"
    }
   ],
   "source": [
    "from matplotlib import pyplot as plt\n",
    "\n",
    "print(epoch, loss)\n",
    "plt.plot(range(len(loss_vec)), loss_vec)\n",
    "plt.show()"
   ]
  },
  {
   "cell_type": "code",
   "execution_count": 21,
   "metadata": {},
   "outputs": [
    {
     "data": {
      "text/plain": [
       "array([[1.  , 0.  , 0.  ],\n",
       "       [0.99, 0.01, 0.  ],\n",
       "       [1.  , 0.  , 0.  ],\n",
       "       [0.99, 0.01, 0.  ],\n",
       "       [1.  , 0.  , 0.  ],\n",
       "       [1.  , 0.  , 0.  ],\n",
       "       [1.  , 0.  , 0.  ],\n",
       "       [1.  , 0.  , 0.  ],\n",
       "       [0.99, 0.01, 0.  ],\n",
       "       [0.99, 0.01, 0.  ],\n",
       "       [1.  , 0.  , 0.  ],\n",
       "       [0.99, 0.01, 0.  ],\n",
       "       [0.99, 0.01, 0.  ],\n",
       "       [1.  , 0.  , 0.  ],\n",
       "       [1.  , 0.  , 0.  ],\n",
       "       [1.  , 0.  , 0.  ],\n",
       "       [1.  , 0.  , 0.  ],\n",
       "       [1.  , 0.  , 0.  ],\n",
       "       [1.  , 0.  , 0.  ],\n",
       "       [1.  , 0.  , 0.  ],\n",
       "       [0.99, 0.01, 0.  ],\n",
       "       [1.  , 0.  , 0.  ],\n",
       "       [1.  , 0.  , 0.  ],\n",
       "       [0.99, 0.01, 0.  ],\n",
       "       [0.98, 0.02, 0.  ],\n",
       "       [0.98, 0.02, 0.  ],\n",
       "       [1.  , 0.  , 0.  ],\n",
       "       [1.  , 0.  , 0.  ],\n",
       "       [1.  , 0.  , 0.  ],\n",
       "       [0.99, 0.01, 0.  ],\n",
       "       [0.99, 0.01, 0.  ],\n",
       "       [1.  , 0.  , 0.  ],\n",
       "       [1.  , 0.  , 0.  ],\n",
       "       [1.  , 0.  , 0.  ],\n",
       "       [0.99, 0.01, 0.  ],\n",
       "       [1.  , 0.  , 0.  ],\n",
       "       [1.  , 0.  , 0.  ],\n",
       "       [1.  , 0.  , 0.  ],\n",
       "       [0.99, 0.01, 0.  ],\n",
       "       [1.  , 0.  , 0.  ],\n",
       "       [1.  , 0.  , 0.  ],\n",
       "       [0.95, 0.05, 0.  ],\n",
       "       [1.  , 0.  , 0.  ],\n",
       "       [1.  , 0.  , 0.  ],\n",
       "       [1.  , 0.  , 0.  ],\n",
       "       [0.99, 0.01, 0.  ],\n",
       "       [1.  , 0.  , 0.  ],\n",
       "       [1.  , 0.  , 0.  ],\n",
       "       [1.  , 0.  , 0.  ],\n",
       "       [1.  , 0.  , 0.  ],\n",
       "       [0.  , 1.  , 0.  ],\n",
       "       [0.  , 0.99, 0.01],\n",
       "       [0.  , 0.98, 0.02],\n",
       "       [0.  , 0.91, 0.09],\n",
       "       [0.  , 0.96, 0.04],\n",
       "       [0.  , 0.9 , 0.1 ],\n",
       "       [0.  , 0.95, 0.05],\n",
       "       [0.01, 0.98, 0.  ],\n",
       "       [0.  , 0.99, 0.01],\n",
       "       [0.  , 0.92, 0.08],\n",
       "       [0.  , 0.98, 0.02],\n",
       "       [0.  , 0.97, 0.02],\n",
       "       [0.  , 1.  , 0.  ],\n",
       "       [0.  , 0.91, 0.09],\n",
       "       [0.02, 0.97, 0.  ],\n",
       "       [0.  , 0.99, 0.  ],\n",
       "       [0.  , 0.78, 0.22],\n",
       "       [0.  , 1.  , 0.  ],\n",
       "       [0.  , 0.65, 0.35],\n",
       "       [0.  , 0.99, 0.01],\n",
       "       [0.  , 0.4 , 0.6 ],\n",
       "       [0.  , 0.99, 0.  ],\n",
       "       [0.  , 0.5 , 0.5 ],\n",
       "       [0.  , 0.96, 0.04],\n",
       "       [0.  , 0.99, 0.  ],\n",
       "       [0.  , 0.99, 0.  ],\n",
       "       [0.  , 0.98, 0.02],\n",
       "       [0.  , 0.78, 0.22],\n",
       "       [0.  , 0.91, 0.09],\n",
       "       [0.02, 0.98, 0.  ],\n",
       "       [0.  , 0.99, 0.01],\n",
       "       [0.  , 0.99, 0.  ],\n",
       "       [0.  , 0.99, 0.  ],\n",
       "       [0.  , 0.13, 0.87],\n",
       "       [0.  , 0.65, 0.35],\n",
       "       [0.  , 0.96, 0.04],\n",
       "       [0.  , 0.99, 0.01],\n",
       "       [0.  , 0.95, 0.05],\n",
       "       [0.  , 0.98, 0.01],\n",
       "       [0.  , 0.95, 0.05],\n",
       "       [0.  , 0.88, 0.12],\n",
       "       [0.  , 0.96, 0.04],\n",
       "       [0.  , 0.99, 0.01],\n",
       "       [0.01, 0.99, 0.  ],\n",
       "       [0.  , 0.95, 0.05],\n",
       "       [0.  , 0.99, 0.01],\n",
       "       [0.  , 0.98, 0.02],\n",
       "       [0.  , 0.99, 0.01],\n",
       "       [0.06, 0.94, 0.  ],\n",
       "       [0.  , 0.98, 0.02],\n",
       "       [0.  , 0.  , 1.  ],\n",
       "       [0.  , 0.01, 0.99],\n",
       "       [0.  , 0.01, 0.99],\n",
       "       [0.  , 0.02, 0.98],\n",
       "       [0.  , 0.  , 1.  ],\n",
       "       [0.  , 0.  , 1.  ],\n",
       "       [0.  , 0.02, 0.98],\n",
       "       [0.  , 0.02, 0.98],\n",
       "       [0.  , 0.01, 0.99],\n",
       "       [0.  , 0.  , 1.  ],\n",
       "       [0.  , 0.25, 0.75],\n",
       "       [0.  , 0.03, 0.97],\n",
       "       [0.  , 0.03, 0.97],\n",
       "       [0.  , 0.  , 1.  ],\n",
       "       [0.  , 0.  , 1.  ],\n",
       "       [0.  , 0.01, 0.99],\n",
       "       [0.  , 0.08, 0.92],\n",
       "       [0.  , 0.02, 0.98],\n",
       "       [0.  , 0.  , 1.  ],\n",
       "       [0.  , 0.08, 0.92],\n",
       "       [0.  , 0.01, 0.99],\n",
       "       [0.  , 0.01, 0.99],\n",
       "       [0.  , 0.  , 1.  ],\n",
       "       [0.  , 0.23, 0.77],\n",
       "       [0.  , 0.03, 0.97],\n",
       "       [0.  , 0.13, 0.87],\n",
       "       [0.  , 0.33, 0.67],\n",
       "       [0.  , 0.29, 0.71],\n",
       "       [0.  , 0.  , 1.  ],\n",
       "       [0.  , 0.41, 0.59],\n",
       "       [0.  , 0.02, 0.98],\n",
       "       [0.  , 0.31, 0.69],\n",
       "       [0.  , 0.  , 1.  ],\n",
       "       [0.  , 0.51, 0.49],\n",
       "       [0.  , 0.04, 0.96],\n",
       "       [0.  , 0.01, 0.99],\n",
       "       [0.  , 0.  , 1.  ],\n",
       "       [0.  , 0.08, 0.92],\n",
       "       [0.  , 0.32, 0.67],\n",
       "       [0.  , 0.1 , 0.9 ],\n",
       "       [0.  , 0.  , 1.  ],\n",
       "       [0.  , 0.12, 0.88],\n",
       "       [0.  , 0.01, 0.99],\n",
       "       [0.  , 0.  , 1.  ],\n",
       "       [0.  , 0.  , 1.  ],\n",
       "       [0.  , 0.03, 0.97],\n",
       "       [0.  , 0.05, 0.95],\n",
       "       [0.  , 0.09, 0.91],\n",
       "       [0.  , 0.01, 0.99],\n",
       "       [0.  , 0.08, 0.92]])"
      ]
     },
     "execution_count": 21,
     "metadata": {},
     "output_type": "execute_result"
    }
   ],
   "source": [
    "np.round(activity( design1, params ),2)"
   ]
  },
  {
   "cell_type": "code",
   "execution_count": 22,
   "metadata": {},
   "outputs": [
    {
     "name": "stdout",
     "output_type": "stream",
     "text": [
      "0.98\n"
     ]
    }
   ],
   "source": [
    "value = np.argmax( activity(design1, params), 1)\n",
    "hit = (value == target)\n",
    "acc = np.mean(hit)\n",
    "print(acc)"
   ]
  }
 ],
 "metadata": {
  "kernelspec": {
   "display_name": "Python 3",
   "language": "python",
   "name": "python3"
  },
  "language_info": {
   "codemirror_mode": {
    "name": "ipython",
    "version": 3
   },
   "file_extension": ".py",
   "mimetype": "text/x-python",
   "name": "python",
   "nbconvert_exporter": "python",
   "pygments_lexer": "ipython3",
   "version": "3.8.3"
  }
 },
 "nbformat": 4,
 "nbformat_minor": 4
}
