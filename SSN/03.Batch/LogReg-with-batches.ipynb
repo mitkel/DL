{
 "cells": [
  {
   "cell_type": "code",
   "execution_count": 1,
   "metadata": {},
   "outputs": [],
   "source": [
    "import torch\n",
    "import numpy as np\n",
    "from sklearn import datasets\n",
    "from matplotlib import pyplot as plt"
   ]
  },
  {
   "cell_type": "code",
   "execution_count": 5,
   "metadata": {},
   "outputs": [],
   "source": [
    "source = datasets.load_digits()\n",
    "data0 = source.data\n",
    "target0 = source.target\n",
    "design0 = np.insert(data0, 0, 1., 1)"
   ]
  },
  {
   "cell_type": "code",
   "execution_count": 108,
   "metadata": {},
   "outputs": [
    {
     "name": "stdout",
     "output_type": "stream",
     "text": [
      "32\n"
     ]
    }
   ],
   "source": [
    "features = 64\n",
    "classes = 10\n",
    "samples = 1797\n",
    "\n",
    "\n",
    "DESIGN0 = torch.tensor(design0, dtype = torch.float32)\n",
    "TARGET0 = torch.tensor(target0, dtype = torch.int64)\n",
    "\n",
    "PARAM = torch.zeros(1+ features, classes, requires_grad = True)\n",
    "batch = 177\n",
    "opt = torch.optim.Adam([PARAM], lr = 0.13)\n",
    "\n",
    "for epoch in range(100):\n",
    "    # empty bracket so that this tensor contains a number\n",
    "    LOSS0 = torch.zeros(())\n",
    "    ACC0 = torch.zeros(())\n",
    "    count0 = 0\n",
    "    \n",
    "    for index in range(0, samples, batch):\n",
    "        opt.zero_grad()\n",
    "        DESIGN = DESIGN0[index : index + batch]\n",
    "        TARGET = TARGET0[index : index + batch]\n",
    "        count = TARGET.size(0)\n",
    "        \n",
    "        ACTIVATION = DESIGN @ PARAM\n",
    "        LOSS = torch.nn.functional.cross_entropy(ACTIVATION, TARGET)\n",
    "        LOSS0 += LOSS*count\n",
    "        \n",
    "        with torch.no_grad():\n",
    "            VALUE = torch.argmax( ACTIVATION, 1)\n",
    "            ACC0 += torch.sum(VALUE == TARGET)\n",
    "            count0 += count\n",
    "        \n",
    "        LOSS.backward()\n",
    "        opt.step()\n",
    "    \n",
    "    LOSS0 /= count0\n",
    "    ACC0 /= count0\n",
    "#     print(\"%5d %12.3f %4.3f\" % (epoch, LOSS0, ACC0), flush = True)\n",
    "    if ACC0 == 1: \n",
    "        print(epoch)\n",
    "        break"
   ]
  }
 ],
 "metadata": {
  "kernelspec": {
   "display_name": "Python 3",
   "language": "python",
   "name": "python3"
  },
  "language_info": {
   "codemirror_mode": {
    "name": "ipython",
    "version": 3
   },
   "file_extension": ".py",
   "mimetype": "text/x-python",
   "name": "python",
   "nbconvert_exporter": "python",
   "pygments_lexer": "ipython3",
   "version": "3.8.3"
  }
 },
 "nbformat": 4,
 "nbformat_minor": 4
}
