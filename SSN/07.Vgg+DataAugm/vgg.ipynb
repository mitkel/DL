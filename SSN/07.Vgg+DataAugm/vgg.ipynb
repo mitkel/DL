{
 "cells": [
  {
   "cell_type": "code",
   "execution_count": 13,
   "metadata": {},
   "outputs": [],
   "source": [
    "import torch\n",
    "import torchsummary\n",
    "import torchvision as tv"
   ]
  },
  {
   "cell_type": "code",
   "execution_count": 14,
   "metadata": {},
   "outputs": [
    {
     "name": "stdout",
     "output_type": "stream",
     "text": [
      "Files already downloaded and verified\n",
      "Files already downloaded and verified\n"
     ]
    }
   ],
   "source": [
    "set0 = tv.datasets.CIFAR10(\"../../CIFAR10\", train = True, download = True,\n",
    "                           transform = tv.transforms.ToTensor())\n",
    "set1 = tv.datasets.CIFAR10(\"../../CIFAR10\", train = False, download = True,\n",
    "                           transform = tv.transforms.ToTensor())\n",
    "loader0 = torch.utils.data.DataLoader(set0, batch_size = 100, shuffle = True)\n",
    "loader1 = torch.utils.data.DataLoader(set1, batch_size = 100)"
   ]
  },
  {
   "cell_type": "code",
   "execution_count": 12,
   "metadata": {},
   "outputs": [
    {
     "name": "stdout",
     "output_type": "stream",
     "text": [
      "----------------------------------------------------------------\n",
      "        Layer (type)               Output Shape         Param #\n",
      "================================================================\n",
      "       BatchNorm2d-1            [-1, 3, 32, 32]               6\n",
      "            Conv2d-2           [-1, 32, 32, 32]             896\n",
      "              ReLU-3           [-1, 32, 32, 32]               0\n",
      "            Conv2d-4           [-1, 32, 32, 32]           9,248\n",
      "              ReLU-5           [-1, 32, 32, 32]               0\n",
      "         MaxPool2d-6           [-1, 32, 16, 16]               0\n",
      "       BatchNorm2d-7           [-1, 32, 16, 16]              64\n",
      "           Dropout-8           [-1, 32, 16, 16]               0\n",
      "            Conv2d-9           [-1, 64, 16, 16]          18,496\n",
      "             ReLU-10           [-1, 64, 16, 16]               0\n",
      "           Conv2d-11           [-1, 64, 16, 16]          36,928\n",
      "             ReLU-12           [-1, 64, 16, 16]               0\n",
      "        MaxPool2d-13             [-1, 64, 8, 8]               0\n",
      "      BatchNorm2d-14             [-1, 64, 8, 8]             128\n",
      "          Dropout-15             [-1, 64, 8, 8]               0\n",
      "           Conv2d-16            [-1, 128, 8, 8]          73,856\n",
      "             ReLU-17            [-1, 128, 8, 8]               0\n",
      "           Conv2d-18            [-1, 128, 8, 8]         147,584\n",
      "             ReLU-19            [-1, 128, 8, 8]               0\n",
      "        MaxPool2d-20            [-1, 128, 4, 4]               0\n",
      "      BatchNorm2d-21            [-1, 128, 4, 4]             256\n",
      "          Dropout-22            [-1, 128, 4, 4]               0\n",
      "          Flatten-23                 [-1, 2048]               0\n",
      "           Linear-24                  [-1, 128]         262,272\n",
      "             ReLU-25                  [-1, 128]               0\n",
      "          Dropout-26                  [-1, 128]               0\n",
      "           Linear-27                   [-1, 10]           1,290\n",
      "================================================================\n",
      "Total params: 551,024\n",
      "Trainable params: 551,024\n",
      "Non-trainable params: 0\n",
      "----------------------------------------------------------------\n",
      "Input size (MB): 0.01\n",
      "Forward/backward pass size (MB): 2.12\n",
      "Params size (MB): 2.10\n",
      "Estimated Total Size (MB): 4.23\n",
      "----------------------------------------------------------------\n"
     ]
    }
   ],
   "source": [
    "model = torch.nn.Sequential(\n",
    "    torch.nn.BatchNorm2d(3),\n",
    "    torch.nn.Conv2d(3, 32, 3, padding=1), #32\n",
    "    torch.nn.ReLU(),\n",
    "    torch.nn.Conv2d(32, 32, 3, padding=1), #32\n",
    "    torch.nn.ReLU(),\n",
    "    torch.nn.MaxPool2d(2), #16\n",
    "    \n",
    "    \n",
    "    torch.nn.BatchNorm2d(32),\n",
    "    torch.nn.Dropout(0.2),\n",
    "    torch.nn.Conv2d(32, 64, 3, padding=1), #32\n",
    "    torch.nn.ReLU(),\n",
    "    torch.nn.Conv2d(64, 64, 3, padding=1), #32\n",
    "    torch.nn.ReLU(),\n",
    "    torch.nn.MaxPool2d(2), #8\n",
    "    \n",
    "    \n",
    "    torch.nn.BatchNorm2d(64),\n",
    "    torch.nn.Dropout(0.3),\n",
    "    torch.nn.Conv2d(64, 128, 3, padding=1), #32\n",
    "    torch.nn.ReLU(),\n",
    "    torch.nn.Conv2d(128, 128, 3, padding=1), #32\n",
    "    torch.nn.ReLU(),\n",
    "    torch.nn.MaxPool2d(2), #4\n",
    "    \n",
    "    \n",
    "    torch.nn.BatchNorm2d(128),\n",
    "    torch.nn.Dropout(0.4),\n",
    "    torch.nn.Flatten(),\n",
    "    torch.nn.Linear(128 * 4 * 4, 128),\n",
    "    torch.nn.ReLU(),\n",
    "    torch.nn.Dropout(0.2),\n",
    "    torch.nn.Linear(128, 10)).cuda()\n",
    "#model.load_state_dict(torch.load(\"dictionary.pt\"))\n",
    "\n",
    "torchsummary.summary(model, input_size = (3, 32, 32))"
   ]
  },
  {
   "cell_type": "code",
   "execution_count": null,
   "metadata": {},
   "outputs": [],
   "source": [
    "accuracy0, accuracy1 = 0., 0.\n",
    "optimizer = torch.optim.Adam(model.parameters())\n",
    "for epoch in range(1000):\n",
    "    model.train()\n",
    "    LOSS0 = torch.zeros((), device = \"cuda\")\n",
    "    ACCURACY0 = torch.zeros((), device = \"cuda\")\n",
    "    count0 = 0\n",
    "    for DATA, TARGET in loader0:\n",
    "        optimizer.zero_grad()\n",
    "        DATA = DATA.cuda()\n",
    "        TARGET = TARGET.cuda()\n",
    "        count = TARGET.size(0)\n",
    "        ACTIVATION = model(DATA)\n",
    "        LOSS = torch.nn.functional.cross_entropy(ACTIVATION, TARGET)\n",
    "        LOSS0 += LOSS * count\n",
    "        VALUE = ACTIVATION.argmax(1)\n",
    "        ACCURACY0 += torch.eq(VALUE, TARGET).sum()\n",
    "        count0 += count\n",
    "        LOSS.backward()\n",
    "        optimizer.step()\n",
    "    LOSS0 /= count0\n",
    "    ACCURACY0 /= count0\n",
    "    with torch.no_grad():\n",
    "        model.eval()\n",
    "        LOSS1 = torch.zeros((), device = \"cuda\")\n",
    "        ACCURACY1 = torch.zeros((), device = \"cuda\")\n",
    "        count1 = 0\n",
    "        for DATA, TARGET in loader1:\n",
    "            DATA = DATA.cuda()\n",
    "            TARGET = TARGET.cuda()\n",
    "            ACTIVATION = model(DATA)\n",
    "            LOSS1 += torch.nn.functional.cross_entropy(ACTIVATION, TARGET,\n",
    "                                                       reduction = \"sum\")\n",
    "            VALUE = ACTIVATION.argmax(1)\n",
    "            ACCURACY1 += torch.eq(VALUE, TARGET).sum()\n",
    "            count1 += TARGET.size(0)\n",
    "        LOSS1 /= count1\n",
    "        ACCURACY1 /= count1\n",
    "    if accuracy1 < ACCURACY1.item():\n",
    "        accuracy0, accuracy1 = ACCURACY0.item(), ACCURACY1.item()\n",
    "        torch.save(model.state_dict(), \"dictionary.pt\")\n",
    "    print(\"%4d %12.3f %4.3f %4.3f %12.3f %4.3f %4.3f\" % \\\n",
    "          (epoch, LOSS0, ACCURACY0, accuracy0, LOSS1, ACCURACY1, accuracy1), flush = True)"
   ]
  }
 ],
 "metadata": {
  "kernelspec": {
   "display_name": "Python 3",
   "language": "python",
   "name": "python3"
  },
  "language_info": {
   "codemirror_mode": {
    "name": "ipython",
    "version": 3
   },
   "file_extension": ".py",
   "mimetype": "text/x-python",
   "name": "python",
   "nbconvert_exporter": "python",
   "pygments_lexer": "ipython3",
   "version": "3.8.3"
  }
 },
 "nbformat": 4,
 "nbformat_minor": 4
}
