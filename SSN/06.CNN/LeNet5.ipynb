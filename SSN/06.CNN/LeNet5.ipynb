{
 "cells": [
  {
   "cell_type": "code",
   "execution_count": 9,
   "metadata": {},
   "outputs": [],
   "source": [
    "import torch\n",
    "import torchvision as tv\n",
    "import torchsummary"
   ]
  },
  {
   "cell_type": "code",
   "execution_count": 3,
   "metadata": {},
   "outputs": [],
   "source": [
    "samples0, samples1 = 60000, 10000\n",
    "classes = 10\n",
    "\n",
    "source0 = tv.datasets.MNIST(\"../../MNIST\", train = True, download = False)\n",
    "source1 = tv.datasets.MNIST(\"../../MNIST\", train = False, download = False)\n",
    "DATA0 = source0.data.unsqueeze(1).float().cuda()\n",
    "DATA1 = source1.data.unsqueeze(1).float().cuda()\n",
    "TARGET0 = source0.targets.cuda()\n",
    "TARGET1 = source1.targets.cuda()"
   ]
  },
  {
   "cell_type": "code",
   "execution_count": 33,
   "metadata": {},
   "outputs": [
    {
     "name": "stdout",
     "output_type": "stream",
     "text": [
      "----------------------------------------------------------------\n",
      "        Layer (type)               Output Shape         Param #\n",
      "================================================================\n",
      "            Conv2d-1            [-1, 8, 24, 24]             208\n",
      "              ReLU-2            [-1, 8, 24, 24]               0\n",
      "         MaxPool2d-3            [-1, 8, 12, 12]               0\n",
      "            Conv2d-4             [-1, 16, 8, 8]           3,216\n",
      "              ReLU-5             [-1, 16, 8, 8]               0\n",
      "         MaxPool2d-6             [-1, 16, 4, 4]               0\n",
      "           Flatten-7                  [-1, 256]               0\n",
      "            Linear-8                  [-1, 128]          32,896\n",
      "              ReLU-9                  [-1, 128]               0\n",
      "           Linear-10                   [-1, 32]           4,128\n",
      "             ReLU-11                   [-1, 32]               0\n",
      "           Linear-12                   [-1, 10]             330\n",
      "================================================================\n",
      "Total params: 40,778\n",
      "Trainable params: 40,778\n",
      "Non-trainable params: 0\n",
      "----------------------------------------------------------------\n",
      "Input size (MB): 0.00\n",
      "Forward/backward pass size (MB): 0.10\n",
      "Params size (MB): 0.16\n",
      "Estimated Total Size (MB): 0.26\n",
      "----------------------------------------------------------------\n"
     ]
    }
   ],
   "source": [
    "model = torch.nn.Sequential(\n",
    "    torch.nn.Conv2d(1, 8, 5),\n",
    "    torch.nn.ReLU(),\n",
    "    torch.nn.MaxPool2d(2),\n",
    "    torch.nn.Conv2d(8, 16, 5),\n",
    "    torch.nn.ReLU(),\n",
    "    torch.nn.MaxPool2d(2),\n",
    "    torch.nn.Flatten(),\n",
    "    torch.nn.Linear(16*4*4, 128),\n",
    "    torch.nn.ReLU(),\n",
    "    torch.nn.Linear(128, 32),\n",
    "    torch.nn.ReLU(),\n",
    "    torch.nn.Linear(32, 10)).cuda()\n",
    "variables = model.parameters()\n",
    "\n",
    "torchsummary.summary(model, input_size=DATA0.shape[1:])"
   ]
  },
  {
   "cell_type": "code",
   "execution_count": 34,
   "metadata": {},
   "outputs": [
    {
     "name": "stdout",
     "output_type": "stream",
     "text": [
      "    0        0.721 0.788        0.151 0.953\n",
      "    1        0.135 0.959        0.092 0.972\n",
      "    2        0.088 0.973        0.071 0.978\n",
      "    3        0.065 0.980        0.062 0.981\n",
      "    4        0.052 0.984        0.061 0.981\n",
      "    5        0.043 0.987        0.057 0.983\n",
      "    6        0.036 0.989        0.053 0.984\n",
      "    7        0.030 0.991        0.054 0.984\n",
      "    8        0.026 0.992        0.059 0.983\n",
      "    9        0.025 0.992        0.067 0.982\n",
      "   10        0.026 0.991        0.066 0.982\n",
      "   11        0.026 0.991        0.074 0.980\n",
      "   12        0.023 0.993        0.062 0.982\n",
      "   13        0.020 0.993        0.050 0.986\n",
      "   14        0.018 0.994        0.052 0.986\n",
      "   15        0.015 0.995        0.067 0.982\n",
      "   16        0.016 0.994        0.065 0.984\n",
      "   17        0.016 0.995        0.069 0.984\n",
      "   18        0.012 0.996        0.057 0.987\n",
      "   19        0.008 0.997        0.047 0.989\n",
      "   20        0.008 0.997        0.053 0.989\n",
      "   21        0.008 0.997        0.054 0.988\n",
      "   22        0.008 0.997        0.055 0.988\n",
      "   23        0.008 0.998        0.055 0.988\n",
      "   24        0.008 0.998        0.061 0.986\n",
      "   25        0.007 0.998        0.060 0.986\n",
      "   26        0.006 0.998        0.067 0.986\n",
      "   27        0.005 0.998        0.070 0.985\n",
      "   28        0.005 0.998        0.060 0.987\n",
      "   29        0.005 0.998        0.058 0.987\n",
      "   30        0.007 0.998        0.063 0.986\n",
      "   31        0.005 0.999        0.058 0.988\n",
      "   32        0.005 0.998        0.069 0.986\n",
      "   33        0.006 0.998        0.066 0.987\n",
      "   34        0.006 0.998        0.065 0.987\n",
      "   35        0.004 0.999        0.059 0.988\n",
      "   36        0.003 0.999        0.063 0.988\n",
      "   37        0.002 0.999        0.064 0.989\n",
      "   38        0.003 0.999        0.067 0.988\n"
     ]
    },
    {
     "ename": "KeyboardInterrupt",
     "evalue": "",
     "output_type": "error",
     "traceback": [
      "\u001b[0;31m---------------------------------------------------------------------------\u001b[0m",
      "\u001b[0;31mKeyboardInterrupt\u001b[0m                         Traceback (most recent call last)",
      "\u001b[0;32m<ipython-input-34-29e001511602>\u001b[0m in \u001b[0;36m<module>\u001b[0;34m\u001b[0m\n\u001b[1;32m     17\u001b[0m         \u001b[0mcount0\u001b[0m \u001b[0;34m+=\u001b[0m \u001b[0mcount\u001b[0m\u001b[0;34m\u001b[0m\u001b[0;34m\u001b[0m\u001b[0m\n\u001b[1;32m     18\u001b[0m         \u001b[0mLOSS\u001b[0m\u001b[0;34m.\u001b[0m\u001b[0mbackward\u001b[0m\u001b[0;34m(\u001b[0m\u001b[0;34m)\u001b[0m\u001b[0;34m\u001b[0m\u001b[0;34m\u001b[0m\u001b[0m\n\u001b[0;32m---> 19\u001b[0;31m         \u001b[0moptimizer\u001b[0m\u001b[0;34m.\u001b[0m\u001b[0mstep\u001b[0m\u001b[0;34m(\u001b[0m\u001b[0;34m)\u001b[0m\u001b[0;34m\u001b[0m\u001b[0;34m\u001b[0m\u001b[0m\n\u001b[0m\u001b[1;32m     20\u001b[0m     \u001b[0mLOSS0\u001b[0m \u001b[0;34m/=\u001b[0m \u001b[0mcount0\u001b[0m\u001b[0;34m\u001b[0m\u001b[0;34m\u001b[0m\u001b[0m\n\u001b[1;32m     21\u001b[0m     \u001b[0mACCURACY0\u001b[0m \u001b[0;34m/=\u001b[0m \u001b[0mcount0\u001b[0m\u001b[0;34m\u001b[0m\u001b[0;34m\u001b[0m\u001b[0m\n",
      "\u001b[0;32m~/anaconda3/lib/python3.8/site-packages/torch/autograd/grad_mode.py\u001b[0m in \u001b[0;36mdecorate_context\u001b[0;34m(*args, **kwargs)\u001b[0m\n\u001b[1;32m     13\u001b[0m         \u001b[0;32mdef\u001b[0m \u001b[0mdecorate_context\u001b[0m\u001b[0;34m(\u001b[0m\u001b[0;34m*\u001b[0m\u001b[0margs\u001b[0m\u001b[0;34m,\u001b[0m \u001b[0;34m**\u001b[0m\u001b[0mkwargs\u001b[0m\u001b[0;34m)\u001b[0m\u001b[0;34m:\u001b[0m\u001b[0;34m\u001b[0m\u001b[0;34m\u001b[0m\u001b[0m\n\u001b[1;32m     14\u001b[0m             \u001b[0;32mwith\u001b[0m \u001b[0mself\u001b[0m\u001b[0;34m:\u001b[0m\u001b[0;34m\u001b[0m\u001b[0;34m\u001b[0m\u001b[0m\n\u001b[0;32m---> 15\u001b[0;31m                 \u001b[0;32mreturn\u001b[0m \u001b[0mfunc\u001b[0m\u001b[0;34m(\u001b[0m\u001b[0;34m*\u001b[0m\u001b[0margs\u001b[0m\u001b[0;34m,\u001b[0m \u001b[0;34m**\u001b[0m\u001b[0mkwargs\u001b[0m\u001b[0;34m)\u001b[0m\u001b[0;34m\u001b[0m\u001b[0;34m\u001b[0m\u001b[0m\n\u001b[0m\u001b[1;32m     16\u001b[0m         \u001b[0;32mreturn\u001b[0m \u001b[0mdecorate_context\u001b[0m\u001b[0;34m\u001b[0m\u001b[0;34m\u001b[0m\u001b[0m\n\u001b[1;32m     17\u001b[0m \u001b[0;34m\u001b[0m\u001b[0m\n",
      "\u001b[0;32m~/anaconda3/lib/python3.8/site-packages/torch/optim/adam.py\u001b[0m in \u001b[0;36mstep\u001b[0;34m(self, closure)\u001b[0m\n\u001b[1;32m    105\u001b[0m                     \u001b[0mdenom\u001b[0m \u001b[0;34m=\u001b[0m \u001b[0;34m(\u001b[0m\u001b[0mmax_exp_avg_sq\u001b[0m\u001b[0;34m.\u001b[0m\u001b[0msqrt\u001b[0m\u001b[0;34m(\u001b[0m\u001b[0;34m)\u001b[0m \u001b[0;34m/\u001b[0m \u001b[0mmath\u001b[0m\u001b[0;34m.\u001b[0m\u001b[0msqrt\u001b[0m\u001b[0;34m(\u001b[0m\u001b[0mbias_correction2\u001b[0m\u001b[0;34m)\u001b[0m\u001b[0;34m)\u001b[0m\u001b[0;34m.\u001b[0m\u001b[0madd_\u001b[0m\u001b[0;34m(\u001b[0m\u001b[0mgroup\u001b[0m\u001b[0;34m[\u001b[0m\u001b[0;34m'eps'\u001b[0m\u001b[0;34m]\u001b[0m\u001b[0;34m)\u001b[0m\u001b[0;34m\u001b[0m\u001b[0;34m\u001b[0m\u001b[0m\n\u001b[1;32m    106\u001b[0m                 \u001b[0;32melse\u001b[0m\u001b[0;34m:\u001b[0m\u001b[0;34m\u001b[0m\u001b[0;34m\u001b[0m\u001b[0m\n\u001b[0;32m--> 107\u001b[0;31m                     \u001b[0mdenom\u001b[0m \u001b[0;34m=\u001b[0m \u001b[0;34m(\u001b[0m\u001b[0mexp_avg_sq\u001b[0m\u001b[0;34m.\u001b[0m\u001b[0msqrt\u001b[0m\u001b[0;34m(\u001b[0m\u001b[0;34m)\u001b[0m \u001b[0;34m/\u001b[0m \u001b[0mmath\u001b[0m\u001b[0;34m.\u001b[0m\u001b[0msqrt\u001b[0m\u001b[0;34m(\u001b[0m\u001b[0mbias_correction2\u001b[0m\u001b[0;34m)\u001b[0m\u001b[0;34m)\u001b[0m\u001b[0;34m.\u001b[0m\u001b[0madd_\u001b[0m\u001b[0;34m(\u001b[0m\u001b[0mgroup\u001b[0m\u001b[0;34m[\u001b[0m\u001b[0;34m'eps'\u001b[0m\u001b[0;34m]\u001b[0m\u001b[0;34m)\u001b[0m\u001b[0;34m\u001b[0m\u001b[0;34m\u001b[0m\u001b[0m\n\u001b[0m\u001b[1;32m    108\u001b[0m \u001b[0;34m\u001b[0m\u001b[0m\n\u001b[1;32m    109\u001b[0m                 \u001b[0mstep_size\u001b[0m \u001b[0;34m=\u001b[0m \u001b[0mgroup\u001b[0m\u001b[0;34m[\u001b[0m\u001b[0;34m'lr'\u001b[0m\u001b[0;34m]\u001b[0m \u001b[0;34m/\u001b[0m \u001b[0mbias_correction1\u001b[0m\u001b[0;34m\u001b[0m\u001b[0;34m\u001b[0m\u001b[0m\n",
      "\u001b[0;31mKeyboardInterrupt\u001b[0m: "
     ]
    }
   ],
   "source": [
    "batch = 1000\n",
    "optimizer = torch.optim.Adam(variables)\n",
    "for epoch in range(100):\n",
    "    LOSS0 = torch.zeros((), device = \"cuda\")\n",
    "    ACCURACY0 = torch.zeros((), device = \"cuda\")\n",
    "    count0 = 0\n",
    "    for index in range(0, samples0, batch):\n",
    "        optimizer.zero_grad()\n",
    "        DATA = DATA0[index : index + batch]\n",
    "        TARGET = TARGET0[index : index + batch]\n",
    "        count = TARGET.size(0)\n",
    "        ACTIVATION = model(DATA)\n",
    "        LOSS = torch.nn.functional.cross_entropy(ACTIVATION, TARGET)\n",
    "        LOSS0 += LOSS * count\n",
    "        VALUE = torch.argmax(ACTIVATION, 1)\n",
    "        ACCURACY0 += torch.sum(VALUE == TARGET)\n",
    "        count0 += count\n",
    "        LOSS.backward()\n",
    "        optimizer.step()\n",
    "    LOSS0 /= count0\n",
    "    ACCURACY0 /= count0\n",
    "    with torch.no_grad():\n",
    "        LOSS1 = torch.zeros((), device = \"cuda\")\n",
    "        ACCURACY1 = torch.zeros((), device = \"cuda\")\n",
    "        count1 = 0\n",
    "        for index in range(0, samples1, batch):\n",
    "            DATA = DATA1[index : index + batch]\n",
    "            TARGET = TARGET1[index : index + batch]\n",
    "            ACTIVATION = model(DATA)\n",
    "            LOSS1 += torch.nn.functional.cross_entropy(ACTIVATION, TARGET, reduction = \"sum\")\n",
    "            VALUE = torch.argmax(ACTIVATION, 1)\n",
    "            ACCURACY1 += torch.sum(VALUE == TARGET)\n",
    "            count1 += TARGET.size(0)\n",
    "        LOSS1 /= count1\n",
    "        ACCURACY1 /= count1\n",
    "    print(\"%5d %12.3f %4.3f %12.3f %4.3f\" % \\\n",
    "          (epoch, LOSS0, ACCURACY0, LOSS1, ACCURACY1), flush = True)\n",
    "\n",
    "#parameters: 46 090 + 208 = 46 298\n",
    "#accuracy: train: 1000 test: 981\n",
    "\n",
    "#this net with one convolutional and one dense layer performs better than two-layer dense net but has over 17 times less parameters."
   ]
  }
 ],
 "metadata": {
  "kernelspec": {
   "display_name": "Python 3",
   "language": "python",
   "name": "python3"
  },
  "language_info": {
   "codemirror_mode": {
    "name": "ipython",
    "version": 3
   },
   "file_extension": ".py",
   "mimetype": "text/x-python",
   "name": "python",
   "nbconvert_exporter": "python",
   "pygments_lexer": "ipython3",
   "version": "3.8.3"
  }
 },
 "nbformat": 4,
 "nbformat_minor": 4
}
