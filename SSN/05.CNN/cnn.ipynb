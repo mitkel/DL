{
 "cells": [
  {
   "cell_type": "code",
   "execution_count": 1,
   "metadata": {},
   "outputs": [],
   "source": [
    "import torch\n",
    "import torchvision as tv"
   ]
  },
  {
   "cell_type": "code",
   "execution_count": 19,
   "metadata": {},
   "outputs": [],
   "source": [
    "samples0, samples1 = 60000, 10000\n",
    "# features = 784\n",
    "classes = 10\n",
    "\n",
    "source0 = tv.datasets.MNIST(\"../../MNIST\", train = True, download = False)\n",
    "source1 = tv.datasets.MNIST(\"../../MNIST\", train = False, download = False)\n",
    "DATA0 = source0.data.unsqueeze(1).float().cuda()\n",
    "DATA1 = source1.data.unsqueeze(1).float().cuda()\n",
    "TARGET0 = source0.targets.cuda()\n",
    "TARGET1 = source1.targets.cuda()\n",
    "\n",
    "BIAS1 = torch.zeros(8, 1, 1, requires_grad=True, device=\"cuda\")\n",
    "FILTER1 = torch.zeros(8, 1, 5, 5, requires_grad = True, device = \"cuda\")\n",
    "BIAS = torch.zeros(1, classes, requires_grad = True, device = \"cuda\")\n",
    "WEIGHT = torch.zeros(8*24*24, classes, requires_grad = True, device = \"cuda\")\n",
    "torch.nn.init.xavier_normal_(FILTER1)\n",
    "variables = [BIAS, WEIGHT, FILTER1, BIAS1]"
   ]
  },
  {
   "cell_type": "code",
   "execution_count": 17,
   "metadata": {},
   "outputs": [],
   "source": [
    "def model(SIGNAL):\n",
    "    SIGNAL = BIAS1 + torch.nn.functional.conv2d(SIGNAL, FILTER1)\n",
    "    SIGNAL = torch.nn.functional.relu(SIGNAL)\n",
    "    SIGNAL = SIGNAL.flatten(1)\n",
    "    \n",
    "    SIGNAL = BIAS + SIGNAL @ WEIGHT\n",
    "    return SIGNAL"
   ]
  },
  {
   "cell_type": "code",
   "execution_count": 18,
   "metadata": {},
   "outputs": [
    {
     "name": "stdout",
     "output_type": "stream",
     "text": [
      "    0        0.383 0.885        0.188 0.948\n",
      "    1        0.157 0.956        0.135 0.963\n",
      "    2        0.108 0.970        0.107 0.970\n",
      "    3        0.082 0.977        0.094 0.972\n",
      "    4        0.065 0.982        0.089 0.973\n",
      "    5        0.053 0.986        0.083 0.974\n",
      "    6        0.045 0.988        0.079 0.977\n",
      "    7        0.039 0.990        0.078 0.977\n",
      "    8        0.034 0.992        0.077 0.978\n",
      "    9        0.029 0.993        0.073 0.978\n"
     ]
    }
   ],
   "source": [
    "batch = 1000\n",
    "optimizer = torch.optim.Adam(variables, lr = 0.0001)\n",
    "for epoch in range(10):\n",
    "    LOSS0 = torch.zeros((), device = \"cuda\")\n",
    "    ACCURACY0 = torch.zeros((), device = \"cuda\")\n",
    "    count0 = 0\n",
    "    for index in range(0, samples0, batch):\n",
    "        optimizer.zero_grad()\n",
    "        DATA = DATA0[index : index + batch]\n",
    "        TARGET = TARGET0[index : index + batch]\n",
    "        count = TARGET.size(0)\n",
    "        ACTIVATION = model(DATA)\n",
    "        LOSS = torch.nn.functional.cross_entropy(ACTIVATION, TARGET)\n",
    "        LOSS0 += LOSS * count\n",
    "        VALUE = torch.argmax(ACTIVATION, 1)\n",
    "        ACCURACY0 += torch.sum(VALUE == TARGET)\n",
    "        count0 += count\n",
    "        LOSS.backward()\n",
    "        optimizer.step()\n",
    "    LOSS0 /= count0\n",
    "    ACCURACY0 /= count0\n",
    "    with torch.no_grad():\n",
    "        LOSS1 = torch.zeros((), device = \"cuda\")\n",
    "        ACCURACY1 = torch.zeros((), device = \"cuda\")\n",
    "        count1 = 0\n",
    "        for index in range(0, samples1, batch):\n",
    "            DATA = DATA1[index : index + batch]\n",
    "            TARGET = TARGET1[index : index + batch]\n",
    "            ACTIVATION = model(DATA)\n",
    "            LOSS1 += torch.nn.functional.cross_entropy(ACTIVATION, TARGET, reduction = \"sum\")\n",
    "            VALUE = torch.argmax(ACTIVATION, 1)\n",
    "            ACCURACY1 += torch.sum(VALUE == TARGET)\n",
    "            count1 += TARGET.size(0)\n",
    "        LOSS1 /= count1\n",
    "        ACCURACY1 /= count1\n",
    "    print(\"%5d %12.3f %4.3f %12.3f %4.3f\" % \\\n",
    "          (epoch, LOSS0, ACCURACY0, LOSS1, ACCURACY1), flush = True)\n",
    "\n",
    "#accuracy: train: 931 test: 920"
   ]
  }
 ],
 "metadata": {
  "kernelspec": {
   "display_name": "Python 3",
   "language": "python",
   "name": "python3"
  },
  "language_info": {
   "codemirror_mode": {
    "name": "ipython",
    "version": 3
   },
   "file_extension": ".py",
   "mimetype": "text/x-python",
   "name": "python",
   "nbconvert_exporter": "python",
   "pygments_lexer": "ipython3",
   "version": "3.8.3"
  }
 },
 "nbformat": 4,
 "nbformat_minor": 4
}
